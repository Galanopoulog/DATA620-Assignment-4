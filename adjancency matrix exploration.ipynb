{
 "cells": [
  {
   "cell_type": "code",
   "execution_count": 8,
   "metadata": {},
   "outputs": [],
   "source": [
    "import networkx as nx\n",
    "import networkx.algorithms.bipartite as bipartite\n",
    "import math\n",
    "from prettytable import PrettyTable\n",
    "import matplotlib.pyplot as plt\n",
    "import numpy as np\n",
    "import os\n",
    "%matplotlib inline\n"
   ]
  },
  {
   "cell_type": "code",
   "execution_count": 2,
   "metadata": {},
   "outputs": [],
   "source": [
    "G = nx.davis_southern_women_graph()\n",
    "\n"
   ]
  },
  {
   "cell_type": "code",
   "execution_count": 3,
   "metadata": {},
   "outputs": [
    {
     "name": "stdout",
     "output_type": "stream",
     "text": [
      "  (0, 0)\t1\n",
      "  (0, 1)\t1\n",
      "  (0, 2)\t1\n",
      "  (0, 3)\t1\n",
      "  (0, 4)\t1\n",
      "  (0, 5)\t1\n",
      "  (0, 7)\t1\n",
      "  (0, 8)\t1\n",
      "  (1, 0)\t1\n",
      "  (1, 1)\t1\n",
      "  (1, 2)\t1\n",
      "  (1, 4)\t1\n",
      "  (1, 5)\t1\n",
      "  (1, 6)\t1\n",
      "  (1, 7)\t1\n",
      "  (2, 1)\t1\n",
      "  (2, 2)\t1\n",
      "  (2, 3)\t1\n",
      "  (2, 4)\t1\n",
      "  (2, 5)\t1\n",
      "  (2, 6)\t1\n",
      "  (2, 7)\t1\n",
      "  (2, 8)\t1\n",
      "  (3, 0)\t1\n",
      "  (3, 2)\t1\n",
      "  :\t:\n",
      "  (12, 7)\t1\n",
      "  (12, 8)\t1\n",
      "  (12, 9)\t1\n",
      "  (12, 11)\t1\n",
      "  (12, 12)\t1\n",
      "  (12, 13)\t1\n",
      "  (13, 5)\t1\n",
      "  (13, 6)\t1\n",
      "  (13, 8)\t1\n",
      "  (13, 9)\t1\n",
      "  (13, 10)\t1\n",
      "  (13, 11)\t1\n",
      "  (13, 12)\t1\n",
      "  (13, 13)\t1\n",
      "  (14, 6)\t1\n",
      "  (14, 7)\t1\n",
      "  (14, 9)\t1\n",
      "  (14, 10)\t1\n",
      "  (14, 11)\t1\n",
      "  (15, 7)\t1\n",
      "  (15, 8)\t1\n",
      "  (16, 8)\t1\n",
      "  (16, 10)\t1\n",
      "  (17, 8)\t1\n",
      "  (17, 10)\t1\n"
     ]
    }
   ],
   "source": [
    "G = nx.davis_southern_women_graph()\n",
    "women = [\"Evelyn Jefferson\",\n",
    "             \"Laura Mandeville\",\n",
    "             \"Theresa Anderson\",\n",
    "             \"Brenda Rogers\",\n",
    "             \"Charlotte McDowd\",\n",
    "             \"Frances Anderson\",\n",
    "             \"Eleanor Nye\",\n",
    "             \"Pearl Oglethorpe\",\n",
    "             \"Ruth DeSand\",\n",
    "             \"Verne Sanderson\",\n",
    "             \"Myra Liddel\",\n",
    "             \"Katherina Rogers\",\n",
    "             \"Sylvia Avondale\",\n",
    "             \"Nora Fayette\",\n",
    "             \"Helen Lloyd\",\n",
    "             \"Dorothy Murchison\",\n",
    "             \"Olivia Carleton\",\n",
    "             \"Flora Price\"]\n",
    "clubs = [\"E1\",\n",
    "              \"E2\",\n",
    "              \"E3\",\n",
    "              \"E4\",\n",
    "              \"E5\",\n",
    "              \"E6\",\n",
    "              \"E7\",\n",
    "              \"E8\",\n",
    "              \"E9\",\n",
    "              \"E10\",\n",
    "              \"E11\",\n",
    "              \"E12\",\n",
    "              \"E13\",\n",
    "              \"E14\"]\n",
    "\n",
    "\n",
    "print(bipartite.biadjacency_matrix(G,women,clubs))\n"
   ]
  },
  {
   "cell_type": "code",
   "execution_count": 10,
   "metadata": {},
   "outputs": [],
   "source": [
    "adj_mat = np.loadtxt(open(\"adj_mat.csv\", \"rb\"), delimiter=\",\")"
   ]
  },
  {
   "cell_type": "code",
   "execution_count": 15,
   "metadata": {},
   "outputs": [
    {
     "name": "stdout",
     "output_type": "stream",
     "text": [
      "[[ 8.  6.  7.  6.  3.  4.  3.  3.  3.  2.  2.  2.  2.  2.  1.  2.  1.  1.]\n",
      " [ 6.  7.  6.  6.  3.  4.  4.  2.  3.  2.  1.  1.  2.  2.  2.  1.  0.  0.]\n",
      " [ 7.  6.  8.  6.  4.  4.  4.  3.  4.  3.  2.  2.  3.  3.  2.  2.  1.  1.]\n",
      " [ 6.  6.  6.  7.  4.  4.  4.  2.  3.  2.  1.  1.  2.  2.  2.  1.  0.  0.]\n",
      " [ 3.  3.  4.  4.  4.  2.  2.  0.  2.  1.  0.  0.  1.  1.  1.  0.  0.  0.]\n",
      " [ 4.  4.  4.  4.  2.  4.  3.  2.  2.  1.  1.  1.  1.  1.  1.  1.  0.  0.]\n",
      " [ 3.  4.  4.  4.  2.  3.  4.  2.  3.  2.  1.  1.  2.  2.  2.  1.  0.  0.]\n",
      " [ 3.  2.  3.  2.  0.  2.  2.  3.  2.  2.  2.  2.  2.  2.  1.  2.  1.  1.]\n",
      " [ 3.  3.  4.  3.  2.  2.  3.  2.  4.  3.  2.  2.  3.  2.  2.  2.  1.  1.]\n",
      " [ 2.  2.  3.  2.  1.  1.  2.  2.  3.  4.  3.  3.  4.  3.  3.  3.  1.  1.]\n",
      " [ 2.  1.  2.  1.  0.  1.  1.  2.  2.  3.  4.  4.  4.  3.  3.  4.  1.  1.]\n",
      " [ 2.  1.  2.  1.  0.  1.  1.  2.  2.  3.  4.  6.  6.  5.  5.  4.  1.  1.]\n",
      " [ 2.  2.  3.  2.  1.  1.  2.  2.  3.  4.  4.  6.  7.  6.  6.  4.  1.  1.]\n",
      " [ 2.  2.  3.  2.  1.  1.  2.  2.  2.  3.  3.  5.  6.  8.  6.  3.  2.  2.]\n",
      " [ 1.  2.  2.  2.  1.  1.  2.  1.  2.  3.  3.  5.  6.  6.  7.  3.  1.  1.]\n",
      " [ 2.  1.  2.  1.  0.  1.  1.  2.  2.  3.  4.  4.  4.  3.  3.  4.  1.  1.]\n",
      " [ 1.  0.  1.  0.  0.  0.  0.  1.  1.  1.  1.  1.  1.  2.  1.  1.  2.  2.]\n",
      " [ 1.  0.  1.  0.  0.  0.  0.  1.  1.  1.  1.  1.  1.  2.  1.  1.  2.  2.]]\n"
     ]
    }
   ],
   "source": [
    "a = adj_mat\n",
    "b = np.matrix.transpose(adj_mat)\n",
    "\n",
    "\n",
    "print(np.matmul(a,b))"
   ]
  }
 ],
 "metadata": {
  "kernelspec": {
   "display_name": "Python 2",
   "language": "python",
   "name": "python2"
  },
  "language_info": {
   "codemirror_mode": {
    "name": "ipython",
    "version": 2
   },
   "file_extension": ".py",
   "mimetype": "text/x-python",
   "name": "python",
   "nbconvert_exporter": "python",
   "pygments_lexer": "ipython2",
   "version": "2.7.13"
  }
 },
 "nbformat": 4,
 "nbformat_minor": 2
}
