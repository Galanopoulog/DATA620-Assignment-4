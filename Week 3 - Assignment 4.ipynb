{
 "cells": [
  {
   "cell_type": "markdown",
   "metadata": {},
   "source": [
    "# Week 3 Assignment 4\n",
    "##### Georgia  - Team 5"
   ]
  },
  {
   "cell_type": "markdown",
   "metadata": {},
   "source": [
    "#### The dataset, collected by Davis et al in the 1930s, shows a simple 2-node network:  the attendance of 18 Southern Women at 14 social events. The result is a person-by-event matrix: cell (i,j) is 1 if person i attended social event j, and 0 otherwise. http://vlado.fmf.uni-lj.si/pub/networks/data/ucinet/ucidata.htm#davis"
   ]
  },
  {
   "cell_type": "markdown",
   "metadata": {},
   "source": [
    "#### Goal: Make inferences about the relationships between (1) the women, and (2) the social events. "
   ]
  },
  {
   "cell_type": "markdown",
   "metadata": {},
   "source": [
    "##### Import data from url"
   ]
  },
  {
   "cell_type": "code",
   "execution_count": 5,
   "metadata": {
    "collapsed": false
   },
   "outputs": [
    {
     "name": "stdout",
     "output_type": "stream",
     "text": [
      "DL\r\n",
      "\n",
      "NR=18 NC=14\r\n",
      "\n",
      "FORMAT = FULLMATRIX DIAGONAL PRESENT\r\n",
      "\n",
      "ROW LABELS:\r\n",
      "\n",
      "EVELYN\r\n",
      "\n",
      "LAURA\r\n",
      "\n",
      "THERESA\r\n",
      "\n",
      "BRENDA\r\n",
      "\n",
      "CHARLOTTE\r\n",
      "\n",
      "FRANCES\r\n",
      "\n",
      "ELEANOR\r\n",
      "\n",
      "PEARL\r\n",
      "\n",
      "RUTH\r\n",
      "\n",
      "VERNE\r\n",
      "\n",
      "MYRNA\r\n",
      "\n",
      "KATHERINE\r\n",
      "\n",
      "SYLVIA\r\n",
      "\n",
      "NORA\r\n",
      "\n",
      "HELEN\r\n",
      "\n",
      "DOROTHY\r\n",
      "\n",
      "OLIVIA\r\n",
      "\n",
      "FLORA\r\n",
      "\n",
      "COLUMN LABELS:\r\n",
      "\n",
      "E1\r\n",
      "\n",
      "E2\r\n",
      "\n",
      "E3\r\n",
      "\n",
      "E4\r\n",
      "\n",
      "E5\r\n",
      "\n",
      "E6\r\n",
      "\n",
      "E7\r\n",
      "\n",
      "E8\r\n",
      "\n",
      "E9\r\n",
      "\n",
      "E10\r\n",
      "\n",
      "E11\r\n",
      "\n",
      "E12\r\n",
      "\n",
      "E13\r\n",
      "\n",
      "E14\r\n",
      "\n",
      "DATA:\r\n",
      "\n",
      " 1 1 1 1 1 1 0 1 1 0 0 0 0 0\r\n",
      "\n",
      " 1 1 1 0 1 1 1 1 0 0 0 0 0 0\r\n",
      "\n",
      " 0 1 1 1 1 1 1 1 1 0 0 0 0 0\r\n",
      "\n",
      " 1 0 1 1 1 1 1 1 0 0 0 0 0 0\r\n",
      "\n",
      " 0 0 1 1 1 0 1 0 0 0 0 0 0 0\r\n",
      "\n",
      " 0 0 1 0 1 1 0 1 0 0 0 0 0 0\r\n",
      "\n",
      " 0 0 0 0 1 1 1 1 0 0 0 0 0 0\r\n",
      "\n",
      " 0 0 0 0 0 1 0 1 1 0 0 0 0 0\r\n",
      "\n",
      " 0 0 0 0 1 0 1 1 1 0 0 0 0 0\r\n",
      "\n",
      " 0 0 0 0 0 0 1 1 1 0 0 1 0 0\r\n",
      "\n",
      " 0 0 0 0 0 0 0 1 1 1 0 1 0 0\r\n",
      "\n",
      " 0 0 0 0 0 0 0 1 1 1 0 1 1 1\r\n",
      "\n",
      " 0 0 0 0 0 0 1 1 1 1 0 1 1 1\r\n",
      "\n",
      " 0 0 0 0 0 1 1 0 1 1 1 1 1 1\r\n",
      "\n",
      " 0 0 0 0 0 0 1 1 0 1 1 1 1 1\r\n",
      "\n",
      " 0 0 0 0 0 0 0 1 1 1 0 1 0 0\r\n",
      "\n",
      " 0 0 0 0 0 0 0 0 1 0 1 0 0 0\r\n",
      "\n",
      " 0 0 0 0 0 0 0 0 1 0 1 0 0 0\r\n",
      "\n"
     ]
    }
   ],
   "source": [
    "import urllib2\n",
    "\n",
    "for line in urllib2.urlopen(\"http://vlado.fmf.uni-lj.si/pub/networks/data/Ucinet/davis.dat\"):\n",
    "    print line"
   ]
  },
  {
   "cell_type": "markdown",
   "metadata": {},
   "source": [
    "# Python code to create dataset"
   ]
  },
  {
   "cell_type": "code",
   "execution_count": 4,
   "metadata": {
    "collapsed": false
   },
   "outputs": [
    {
     "ename": "KeyError",
     "evalue": "'top'",
     "output_type": "error",
     "traceback": [
      "\u001b[1;31m---------------------------------------------------------------------------\u001b[0m",
      "\u001b[1;31mKeyError\u001b[0m                                  Traceback (most recent call last)",
      "\u001b[1;32m<ipython-input-4-acfc2ea90326>\u001b[0m in \u001b[0;36m<module>\u001b[1;34m()\u001b[0m\n\u001b[0;32m     14\u001b[0m \u001b[1;33m\u001b[0m\u001b[0m\n\u001b[0;32m     15\u001b[0m \u001b[0mG\u001b[0m \u001b[1;33m=\u001b[0m \u001b[0mnx\u001b[0m\u001b[1;33m.\u001b[0m\u001b[0mdavis_southern_women_graph\u001b[0m\u001b[1;33m(\u001b[0m\u001b[1;33m)\u001b[0m\u001b[1;33m\u001b[0m\u001b[0m\n\u001b[1;32m---> 16\u001b[1;33m \u001b[0mwomen\u001b[0m \u001b[1;33m=\u001b[0m \u001b[0mG\u001b[0m\u001b[1;33m.\u001b[0m\u001b[0mgraph\u001b[0m\u001b[1;33m[\u001b[0m\u001b[1;34m'top'\u001b[0m\u001b[1;33m]\u001b[0m\u001b[1;33m\u001b[0m\u001b[0m\n\u001b[0m\u001b[0;32m     17\u001b[0m \u001b[0mclubs\u001b[0m \u001b[1;33m=\u001b[0m \u001b[0mG\u001b[0m\u001b[1;33m.\u001b[0m\u001b[0mgraph\u001b[0m\u001b[1;33m[\u001b[0m\u001b[1;34m'bottom'\u001b[0m\u001b[1;33m]\u001b[0m\u001b[1;33m\u001b[0m\u001b[0m\n\u001b[0;32m     18\u001b[0m \u001b[1;33m\u001b[0m\u001b[0m\n",
      "\u001b[1;31mKeyError\u001b[0m: 'top'"
     ]
    }
   ],
   "source": [
    "#!/usr/bin/env python\n",
    "\"\"\"\n",
    "Davis Southern Club Women\n",
    "\n",
    "Shows how to make unipartite projections of the graph and compute the\n",
    "properties of those graphs.\n",
    "\n",
    "These data were collected by Davis et al. in the 1930s.\n",
    "They represent observed attendance at 14 social events by 18 Southern women.\n",
    "The graph is bipartite (clubs, women).\n",
    "\"\"\"\n",
    "import networkx as nx\n",
    "import networkx.algorithms.bipartite as bipartite\n",
    "\n",
    "G = nx.davis_southern_women_graph()\n",
    "women = G.graph['top']\n",
    "clubs = G.graph['bottom']\n",
    "\n",
    "print(\"Biadjacency matrix\")\n",
    "print(bipartite.biadjacency_matrix(G,women,clubs))\n",
    "\n",
    "# project bipartite graph onto women nodes\n",
    "W = bipartite.projected_graph(G, women)\n",
    "print('')\n",
    "print(\"#Friends, Member\")\n",
    "for w in women:\n",
    "    print('%d %s' % (W.degree(w),w))\n",
    "\n",
    "# project bipartite graph onto women nodes keeping number of co-occurence\n",
    "# the degree computed is weighted and counts the total number of shared contacts\n",
    "W = bipartite.weighted_projected_graph(G, women)\n",
    "print('')\n",
    "print(\"#Friend meetings, Member\")\n",
    "for w in women:\n",
    "    print('%d %s' % (W.degree(w,weight='weight'),w))"
   ]
  },
  {
   "cell_type": "code",
   "execution_count": null,
   "metadata": {
    "collapsed": true
   },
   "outputs": [],
   "source": []
  },
  {
   "cell_type": "code",
   "execution_count": null,
   "metadata": {
    "collapsed": true
   },
   "outputs": [],
   "source": []
  },
  {
   "cell_type": "code",
   "execution_count": null,
   "metadata": {
    "collapsed": true
   },
   "outputs": [],
   "source": []
  }
 ],
 "metadata": {
  "kernelspec": {
   "display_name": "Python 2",
   "language": "python",
   "name": "python2"
  },
  "language_info": {
   "codemirror_mode": {
    "name": "ipython",
    "version": 2
   },
   "file_extension": ".py",
   "mimetype": "text/x-python",
   "name": "python",
   "nbconvert_exporter": "python",
   "pygments_lexer": "ipython2",
   "version": "2.7.11"
  }
 },
 "nbformat": 4,
 "nbformat_minor": 0
}
